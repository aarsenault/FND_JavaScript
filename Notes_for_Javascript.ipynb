{
 "cells": [
  {
   "cell_type": "markdown",
   "metadata": {},
   "source": [
    "# Notes on JavaScript\n",
    "\n",
    "I'm storing notes here on Javascript in hopes of one day turning it into an interactive tutorial for beginners\n",
    "\n",
    "\n",
    "\n",
    "\n",
    "\n",
    "## Falsy and Truthy vals\n",
    "\n",
    "### the ONLY Falsy values include: \n",
    "\n",
    "* the Boolean value false\n",
    "* the null type\n",
    "* the undefined type\n",
    "* the number 0 incl. 0.0 etc.\n",
    "* the empty string \"\"\n",
    "* the odd value NaN \n",
    "\n",
    "\n",
    "### All else evaluates to true even:\n",
    "\n",
    "* empty [] and {}\n",
    "* \"null\" etc. \n",
    "\n",
    "\n",
    "## Ternery Operator: \n",
    "\n",
    "one line conditional in the form of:\n",
    "\n",
    "    conditional ? (if condition is true) : (if condition is false)\n",
    "\n",
    "\n",
    "A condition structure such as:\n",
    "\n",
    "```javascript\n",
    "var isGoing = true;\n",
    "var color;\n",
    "\n",
    "if (isGoing) {\n",
    "  color = \"green\";\n",
    "} else {\n",
    "  color = \"red\";\n",
    "}\n",
    "```\n",
    "\n",
    "becomes: \n",
    "\n",
    "\n",
    "\n",
    "```JavaScript\n",
    "var isGoing = true;\n",
    "var color = isGoing ? \"green\" : \"red\";```"
   ]
  },
  {
   "cell_type": "markdown",
   "metadata": {},
   "source": [
    "# Strings \n",
    "\n",
    "### Formating strings\n",
    "\n",
    "\n",
    "\n"
   ]
  },
  {
   "cell_type": "markdown",
   "metadata": {},
   "source": [
    "# Conditionals"
   ]
  },
  {
   "cell_type": "code",
   "execution_count": 8,
   "metadata": {},
   "outputs": [
    {
     "ename": "ReferenceError",
     "evalue": "a is not defined",
     "output_type": "error",
     "traceback": [
      "ReferenceError: a is not defined",
      "    at evalmachine.<anonymous>:1:5",
      "    at ContextifyScript.Script.runInThisContext (vm.js:25:33)",
      "    at Object.runInThisContext (vm.js:97:38)",
      "    at run ([eval]:617:19)",
      "    at onRunRequest ([eval]:388:22)",
      "    at onMessage ([eval]:356:17)",
      "    at emitTwo (events.js:106:13)",
      "    at process.emit (events.js:191:7)",
      "    at process.nextTick (internal/child_process.js:758:12)",
      "    at _combinedTickCallback (internal/process/next_tick.js:73:7)"
     ]
    }
   ],
   "source": [
    "if (a == 'test'){\n",
    "    \n",
    "    console.log('hi');\n",
    "} else{\n",
    "    \n",
    "    console.log('boo');\n",
    "}"
   ]
  },
  {
   "cell_type": "code",
   "execution_count": 9,
   "metadata": {},
   "outputs": [
    {
     "data": {
      "text/plain": [
       "'Julia1'"
      ]
     },
     "execution_count": 9,
     "metadata": {},
     "output_type": "execute_result"
    }
   ],
   "source": [
    "'Julia' + 1"
   ]
  },
  {
   "cell_type": "code",
   "execution_count": 10,
   "metadata": {},
   "outputs": [
    {
     "data": {
      "text/plain": [
       "NaN"
      ]
     },
     "execution_count": 10,
     "metadata": {},
     "output_type": "execute_result"
    }
   ],
   "source": [
    "'Hello' % 10"
   ]
  },
  {
   "cell_type": "code",
   "execution_count": 11,
   "metadata": {},
   "outputs": [
    {
     "name": "stdout",
     "output_type": "stream",
     "text": [
      "omnivore\n"
     ]
    },
    {
     "data": {
      "text/plain": [
       "undefined"
      ]
     },
     "execution_count": 11,
     "metadata": {},
     "output_type": "execute_result"
    }
   ],
   "source": [
    "/*\n",
    " * Programming Quiz - Navigating the Food Chain (3-8)\n",
    " *\n",
    " * Use a series of ternary operator to set the category to one of the following:\n",
    " *   - \"herbivore\" if an animal eatsAnimalsAnimals plants\n",
    " *   - \"carnivore\" if an animal eats animals\n",
    " *   - \"omnivore\" if an animal eats plants and animals\n",
    " *   - undefined if an animal doesn't eat plants or animals\n",
    " *\n",
    " * Notes\n",
    " *   - use the variables `eatsPlants` and `eatsAnimals` in your ternary expressions\n",
    " *   - `if` statements aren't allowed ;-)\n",
    " */\n",
    "\n",
    "// change the values of `eatsPlants` and `eatsAnimals` to test your code\n",
    "var eatsPlants = true;\n",
    "var eatsAnimals = true;\n",
    "\n",
    "var category; \n",
    "var category = (!eatsPlants && eatsAnimals && (category == undefined)) ? \"carnivore\" : category ;\n",
    "var category = (eatsPlants && !eatsAnimals && (category == undefined)) ? \"herbivore\" : category;\n",
    "var category = (eatsPlants && eatsAnimals && (category == undefined)) ? \"omnivore\" : category ;\n",
    "\n",
    "\n",
    "\n",
    "console.log(category);"
   ]
  },
  {
   "cell_type": "markdown",
   "metadata": {},
   "source": [
    "# Switch statements:\n",
    "\n",
    "Switch statments allow you to write chained if-else statements dependant on the value of a single variable more eloquentely:\n",
    "\n",
    "```JavaScript\n",
    "if (option === 1) {\n",
    "  console.log(\"You selected option 1.\");\n",
    "} else if (option === 2) {\n",
    "  console.log(\"You selected option 2.\");\n",
    "} else if (option === 3) {\n",
    "  console.log(\"You selected option 3.\");\n",
    "} else if (option === 4) {\n",
    "  console.log(\"You selected option 4.\");\n",
    "} else if (option === 5) {\n",
    "  console.log(\"You selected option 5.\");\n",
    "} else if (option === 6) {\n",
    "  console.log(\"You selected option 6.\");\n",
    "}```\n",
    "\n",
    "\n",
    "becomes:\n",
    "\n",
    "```JavaScript\n",
    "switch (variable){\n",
    "  case 1:\n",
    "    console.log(\"You selected option 1.\");\n",
    "    break;\n",
    "  case 2:\n",
    "    console.log(\"You selected option 2.\");\n",
    "    break;\n",
    "  case 3:\n",
    "    console.log(\"You selected option 3.\");\n",
    "    break;\n",
    "  case 4:\n",
    "    console.log(\"You selected option 4.\");\n",
    "    break;\n",
    "  case 5:\n",
    "    console.log(\"You selected option 5.\");\n",
    "    break;\n",
    "  case 6:\n",
    "    console.log(\"You selected option 6.\");\n",
    "}```\n",
    "\n",
    "\n",
    "### Fallthrough:\n",
    "\n",
    "Note that without the break statements ALL the code under the selected case would execute"
   ]
  },
  {
   "cell_type": "markdown",
   "metadata": {},
   "source": [
    "# Loops:\n",
    "\n",
    "\n",
    "## map():\n",
    "\n",
    "With the `map()` method, you can take an array, perform some operation on each element of the array, and return a new array.\n",
    "\n",
    "Similar to forEach() but with a return array\n",
    "\n",
    "```JavaScript\n",
    "var donuts = [\"jelly donut\", \"chocolate donut\", \"glazed donut\"]\n",
    "var improvedDonuts = donuts.map(function(donut) {\n",
    "  donut += \" hole\";\n",
    "  donut = donut.toUpperCase();\n",
    "  return donut;\n",
    "});```"
   ]
  },
  {
   "cell_type": "markdown",
   "metadata": {
    "collapsed": true
   },
   "source": [
    "# Functions:\n",
    "\n",
    "## Return Statements\n",
    "\n",
    "```JavaScript \n",
    "undefined\n",
    "```\n",
    "\n",
    "is the default return value on the console when nothing is explicitly returned using the special return keyword.\n",
    "\n",
    "\n",
    "\n",
    "## Parameters vs arguments \n",
    "\n",
    "```javascript\n",
    "\n",
    "\n",
    "function test(x, y) {\n",
    "\n",
    "    // some code\n",
    "    \n",
    "}\n",
    "\n",
    "test(100, 200);\n",
    "\n",
    "```\n",
    "\n",
    "Here x and y are **parameters** and the values 100, and 200, when passed to the function are **arguments**\n",
    "\n",
    "\n",
    "\n",
    "## Function Expressions:\n",
    "\n",
    "In JavaScript you can hold anything in variables including functions. This is called a function expression:\n",
    "\n",
    "```javascript\n",
    "\n",
    "var catSays = function(max) { \n",
    "  // code here \n",
    "};\n",
    "\n",
    "```\n",
    "\n",
    "\n",
    "The function is then called an anonymous function, as having a name for it and the variable athat holds it would be redundant. \n",
    "\n",
    "\n",
    "As function expressions are in an assignment THEY ARE NOT HOISTED as normal function or variable declarations. \n"
   ]
  },
  {
   "cell_type": "code",
   "execution_count": 6,
   "metadata": {},
   "outputs": [
    {
     "data": {
      "text/plain": [
       "10"
      ]
     },
     "execution_count": 6,
     "metadata": {},
     "output_type": "execute_result"
    }
   ],
   "source": [
    "// Function expression practice\n",
    "\n",
    "var myFunc = function newfunc(input) {\n",
    "    return input + 5; \n",
    "};\n",
    "\n",
    "\n",
    "myFunc(5)"
   ]
  },
  {
   "cell_type": "markdown",
   "metadata": {},
   "source": [
    "Even if you give the function a name - you call the function by using the variable name!\n",
    "\n",
    "Functions can also be passed to other functions as parameters\n",
    "\n",
    "NOTE - you need to put a ; at the end of a function expression as the assignment is a full statment. \n",
    "\n",
    "This can be done as a variable or even inline:"
   ]
  },
  {
   "cell_type": "markdown",
   "metadata": {},
   "source": [
    "\n",
    "## Inline Functions: \n",
    "\n",
    "```Javascript\n",
    "// Function declaration that takes in two arguments: a function for displaying\n",
    "// a message, along with a name of a movie\n",
    "function movies(messageFunction, name) {\n",
    "  messageFunction(name);\n",
    "}\n",
    "\n",
    "// Call the movies function, pass in the function and name of movie\n",
    "movies(function displayFavorite(movieName) {\n",
    "  console.log(\"My favorite movie is \" + movieName);\n",
    "}, \"Finding Nemo\");\n",
    "\n",
    "\n",
    "```"
   ]
  },
  {
   "cell_type": "markdown",
   "metadata": {},
   "source": [
    "### forEach with inline funcitons: "
   ]
  },
  {
   "cell_type": "code",
   "execution_count": 7,
   "metadata": {},
   "outputs": [
    {
     "data": {
      "text/plain": [
       "undefined"
      ]
     },
     "execution_count": 7,
     "metadata": {},
     "output_type": "execute_result"
    }
   ],
   "source": [
    "//  forEach with inline functions: \n",
    "\n",
    "var test = [12, 929, 11, 3, 199, 1000, 7, 1, 24, 37, 4,\n",
    "    19, 300, 3775, 299, 36, 209, 148, 169, 299,\n",
    "    6, 109, 20, 58, 139, 59, 3, 1, 139\n",
    "];\n",
    "\n",
    "\n",
    "//  Inline forEach to add 100 to all elements\n",
    "test.forEach(function(element, index, theArray) {\n",
    "  theArray[index] = element + 100;\n",
    "});\n",
    "\n"
   ]
  },
  {
   "cell_type": "markdown",
   "metadata": {},
   "source": [
    "# Scope\n",
    "\n",
    "## Function scope\n",
    "\n",
    "In javascript a variable is looked for in the local funciton scope first - if not found it moves out one level until finally it searches the global scope. \n",
    "\n",
    "this means that a variable defined in one function is available to all functions called within that function\n",
    "\n",
    "\n",
    "by writing `var` before variables inside functions we can avoid **Shadowing** where global variables from higher levels are over written by other unrelated variables in lower levels that happen to have the same name\n",
    "\n",
    "\n",
    "## Block Scope - New in ES6\n",
    "\n",
    "\n",
    "## Hoisting\n",
    " \n",
    "     - Functions declarations are hoisted to top of scripts\n",
    "     - variable declarations BUT NOT ASSIGNMENT! are hoisted to top of functions\n",
    "     \n",
    "    "
   ]
  },
  {
   "cell_type": "code",
   "execution_count": 4,
   "metadata": {},
   "outputs": [
    {
     "name": "stdout",
     "output_type": "stream",
     "text": [
      "* \n",
      "* * \n",
      "* * * \n",
      "* * * * \n",
      "* * * * * \n",
      "* * * * * * \n",
      "* * * * * * * \n",
      "* * * * * * * * \n",
      "* * * * * * * * * \n",
      "* * * * * * * * * * \n",
      "\n"
     ]
    },
    {
     "data": {
      "text/plain": [
       "undefined"
      ]
     },
     "execution_count": 4,
     "metadata": {},
     "output_type": "execute_result"
    }
   ],
   "source": [
    "/*\n",
    " * Programming Quiz: Build A Triangle (5-3)\n",
    " */\n",
    "\n",
    "// creates a line of * for a given length\n",
    "function makeLine(length) {\n",
    "    var line = \"\";\n",
    "    for (var j = 1; j <= length; j++) {\n",
    "        line += \"* \";\n",
    "    }\n",
    "    return line + \"\\n\";\n",
    "}\n",
    "\n",
    "// your code goes here.  Make sure you call makeLine() in your own code.\n",
    "\n",
    "function makeTriangle(height) {\n",
    "    \n",
    "    var triangle = \"\";\n",
    "    for (var i=1; i <= height; i++) {\n",
    "        triangle = triangle + makeLine(i);\n",
    "    }\n",
    "    \n",
    "    return triangle; \n",
    "}\n",
    "\n",
    "var answer = console.log(makeTriangle(10));\n",
    "\n",
    "\n"
   ]
  },
  {
   "cell_type": "code",
   "execution_count": 9,
   "metadata": {},
   "outputs": [
    {
     "data": {
      "text/plain": [
       "'a*3'"
      ]
     },
     "execution_count": 9,
     "metadata": {},
     "output_type": "execute_result"
    }
   ],
   "source": [
    "\"a*3\""
   ]
  },
  {
   "cell_type": "code",
   "execution_count": 12,
   "metadata": {},
   "outputs": [
    {
     "data": {
      "text/plain": [
       "{ name: 'The Lumberjack',\n",
       "  price: '$9.95',\n",
       "  ingredients: [ 'eggs', 'sausage', 'toast', 'hashbrowns', 'pankakes' ] }"
      ]
     },
     "execution_count": 12,
     "metadata": {},
     "output_type": "execute_result"
    }
   ],
   "source": [
    "breakfast = {\n",
    "    name : \"The Lumberjack\",\n",
    "    price : \"$9.95\",\n",
    "    ingredients: ['eggs', 'sausage', 'toast', 'hashbrowns', 'pankakes']\n",
    "};\n"
   ]
  },
  {
   "cell_type": "code",
   "execution_count": 13,
   "metadata": {},
   "outputs": [
    {
     "data": {
      "text/plain": [
       "'toast'"
      ]
     },
     "execution_count": 13,
     "metadata": {},
     "output_type": "execute_result"
    }
   ],
   "source": [
    "breakfast.ingredients[2]"
   ]
  },
  {
   "cell_type": "code",
   "execution_count": null,
   "metadata": {
    "collapsed": true
   },
   "outputs": [],
   "source": []
  }
 ],
 "metadata": {
  "kernelspec": {
   "display_name": "Javascript (Node.js)",
   "language": "javascript",
   "name": "javascript"
  },
  "language_info": {
   "file_extension": ".js",
   "mimetype": "application/javascript",
   "name": "javascript",
   "version": "6.11.1"
  }
 },
 "nbformat": 4,
 "nbformat_minor": 2
}
