{
 "cells": [
  {
   "cell_type": "markdown",
   "metadata": {},
   "source": [
    "# Escaping special chars"
   ]
  },
  {
   "cell_type": "code",
   "execution_count": null,
   "metadata": {},
   "outputs": [],
   "source": [
    "var html = '<script src=\"http://hackyourwebsite.com/eviljavascript.js\"></script>';\n",
    "\n",
    "var charEscape = function(_html) {\n",
    "    var newHTML = _html;\n",
    "    // How will you make sure that newHTML doesn't contain any < or > ?\n",
    "\n",
    "    // turn newHTML to an array \n",
    "    newHTMLArr = newHTML.split(\"\") \n",
    "    \n",
    "    //  Inline forEach to add 100 to all elements\n",
    "    newHTMLArr.forEach(function(element, index, theArray){\n",
    "        \n",
    "        switch(element) {\n",
    "    \n",
    "        case '<' :\n",
    "            theArray[index] = '&lt';\n",
    "            break;\n",
    "        \n",
    "        case '>' :\n",
    "            theArray[index] = '&gt';\n",
    "            break;\n",
    "        \n",
    "        case '&' :\n",
    "            theArray[index] = '&amp'; \n",
    "    \n",
    "                \n",
    "        }\n",
    "  \n",
    "    });\n",
    "    \n",
    "    newHTML = newHTMLArr.join(\"\");\n",
    "\n",
    "    // Don't delete this line!\n",
    "    return newHTML;\n",
    "};\n",
    "\n",
    "// Did your code work? The line below will tell you!\n",
    "console.log(charEscape(html));"
   ]
  },
  {
   "cell_type": "markdown",
   "metadata": {},
   "source": [
    "## better way to do it: "
   ]
  },
  {
   "cell_type": "code",
   "execution_count": 2,
   "metadata": {},
   "outputs": [
    {
     "data": {
      "text/plain": [
       "'&lt;script src=\"http://hackyourwebsite.com/eviljavascript.js\"&gt;&lt;/script&gt;'"
      ]
     },
     "execution_count": 2,
     "metadata": {},
     "output_type": "execute_result"
    }
   ],
   "source": [
    "var html = '<script src=\"http://hackyourwebsite.com/eviljavascript.js\"></script>';\n",
    "\n",
    "\n",
    "var charEscape2 = function(_html) {\n",
    "    var newHTML = _html;\n",
    "\n",
    "    newHTML = _html.replace(/</g, \"&lt;\");\n",
    "    newHTML = newHTML.replace(/>/g, \"&gt;\");\n",
    "\n",
    "    return newHTML;\n",
    "};\n",
    "\n",
    "charEscape2(html)"
   ]
  },
  {
   "cell_type": "markdown",
   "metadata": {},
   "source": [
    "or:\n"
   ]
  },
  {
   "cell_type": "code",
   "execution_count": 4,
   "metadata": {},
   "outputs": [
    {
     "data": {
      "text/plain": [
       "'&lt;script src=\"http://hackyourwebsite.com/eviljavascript.js\"&gt;</script>'"
      ]
     },
     "execution_count": 4,
     "metadata": {},
     "output_type": "execute_result"
    }
   ],
   "source": [
    "var html2 = '<script src=\"http://hackyourwebsite.com/eviljavascript.js\"></script>';\n",
    "\n",
    "\n",
    "var charEscape2 = function(_html) {\n",
    "    var newHTML = _html;\n",
    "\n",
    "    newHTML = _html.replace(\"<\", \"&lt;\");\n",
    "    newHTML = newHTML.replace(\">\", \"&gt;\");\n",
    "\n",
    "    return newHTML;\n",
    "};\n",
    "\n",
    "charEscape2(html2)"
   ]
  },
  {
   "cell_type": "code",
   "execution_count": 5,
   "metadata": {},
   "outputs": [
    {
     "data": {
      "text/plain": [
       "undefined"
      ]
     },
     "execution_count": 5,
     "metadata": {},
     "output_type": "execute_result"
    }
   ],
   "source": [
    "var weirdObject = {\n",
    "    \"property\": \"Time for an astronomy lesson!\",\n",
    "    \"property1\": \"Cameron's minor in college was astronomy\",\n",
    "    \"property-2\": \"The 4 Galilean largest moons of Jupiter are:\",\n",
    "    \"property 3\": \"Io, Ganymede, Callisto, Europa\",\n",
    "    \"property$\": \"Saturn's moon Enceladus has liquid water ocean under its icy surface\",\n",
    "    \" property\": \"The Sun contains 99.87% of the mass of the entire solar system\",\n",
    "    \"property()\": \"There are 5 dwarf planets in our solar system:\",\n",
    "    \"property[]\": \"Pluto, Ceres, Eris, Haumea, Makemake\",\n",
    "    \"8property\": \"Mars has two tiny moons: Phobos and Deimos\"\n",
    "};"
   ]
  },
  {
   "cell_type": "code",
   "execution_count": 9,
   "metadata": {},
   "outputs": [
    {
     "data": {
      "text/plain": [
       "'Cameron\\'s minor in college was astronomy'"
      ]
     },
     "execution_count": 9,
     "metadata": {},
     "output_type": "execute_result"
    }
   ],
   "source": [
    "// property\n",
    "var dotNotation0 = true;\n",
    "var bracketNotation0 = true;\n",
    "\n",
    "// property1\n",
    "var dotNotation1 = true;\n",
    "var bracketNotation1 = true;\n",
    "\n",
    "// property-2\n",
    "var dotNotation2 = false;\n",
    "var bracketNotation2 = true;\n",
    "\n",
    "// property 3\n",
    "var dotNotation3 = false;\n",
    "var bracketNotation3 = true;\n",
    "\n",
    "// property$\n",
    "var dotNotation4 = true;\n",
    "var bracketNotation4 = true;\n",
    "\n",
    "// *space*property\n",
    "var dotNotation5 = false;\n",
    "var bracketNotation5 = false;\n",
    "\n",
    "// property()\n",
    "var dotNotation6 = false;\n",
    "var bracketNotation6 = true;\n",
    "\n",
    "// property[]\n",
    "var dotNotation7 = false;\n",
    "var bracketNotation7 = true;\n",
    "\n",
    "// 8property\n",
    "var dotNotation8 = false;\n",
    "var bracketNotation8 = true;"
   ]
  },
  {
   "cell_type": "code",
   "execution_count": 21,
   "metadata": {},
   "outputs": [
    {
     "ename": "SyntaxError",
     "evalue": "Invalid or unexpected token",
     "output_type": "error",
     "traceback": [
      "evalmachine.<anonymous>:1",
      "weirdObject.8property",
      "           ^^",
      "SyntaxError: Invalid or unexpected token",
      "    at createScript (vm.js:56:10)",
      "    at Object.runInThisContext (vm.js:97:10)",
      "    at run ([eval]:617:19)",
      "    at onRunRequest ([eval]:388:22)",
      "    at onMessage ([eval]:356:17)",
      "    at emitTwo (events.js:106:13)",
      "    at process.emit (events.js:191:7)",
      "    at process.nextTick (internal/child_process.js:758:12)",
      "    at _combinedTickCallback (internal/process/next_tick.js:73:7)",
      "    at process._tickCallback (internal/process/next_tick.js:104:9)"
     ]
    }
   ],
   "source": [
    "weirdObject.8property"
   ]
  },
  {
   "cell_type": "code",
   "execution_count": null,
   "metadata": {
    "collapsed": true
   },
   "outputs": [],
   "source": []
  }
 ],
 "metadata": {
  "kernelspec": {
   "display_name": "Javascript (Node.js)",
   "language": "javascript",
   "name": "javascript"
  },
  "language_info": {
   "file_extension": ".js",
   "mimetype": "application/javascript",
   "name": "javascript",
   "version": "6.11.1"
  }
 },
 "nbformat": 4,
 "nbformat_minor": 2
}
